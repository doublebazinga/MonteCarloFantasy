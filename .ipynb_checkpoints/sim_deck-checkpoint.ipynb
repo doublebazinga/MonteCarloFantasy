{
 "cells": [
  {
   "cell_type": "markdown",
   "metadata": {},
   "source": [
    "# Configuration"
   ]
  },
  {
   "cell_type": "code",
   "execution_count": 14,
   "metadata": {},
   "outputs": [],
   "source": [
    "import numpy as np\n",
    "import random"
   ]
  },
  {
   "cell_type": "markdown",
   "metadata": {},
   "source": [
    "# Class Card"
   ]
  },
  {
   "cell_type": "code",
   "execution_count": 12,
   "metadata": {},
   "outputs": [],
   "source": [
    "class Card:\n",
    "    \"\"\"\n",
    "    Generate a card based on suit and value\n",
    "    \n",
    "    ----\n",
    "    method:\n",
    "    show: show the card\n",
    "    \"\"\"\n",
    "    \n",
    "    def __init__(self, suit:str, val:int):\n",
    "        \"\"\"\n",
    "        ----\n",
    "        parameters:\n",
    "        suit: suit of the card\n",
    "        val: value of the card\n",
    "        \"\"\"\n",
    "        self.suit = suit\n",
    "        self.value = val\n",
    "    \n",
    "    def show(self):\n",
    "        \"\"\"\n",
    "        Show the suit and value of the card\n",
    "        \"\"\"\n",
    "        print(f'{self.value} of {self.suit}')"
   ]
  },
  {
   "cell_type": "markdown",
   "metadata": {},
   "source": [
    "# Class Deck"
   ]
  },
  {
   "cell_type": "code",
   "execution_count": 41,
   "metadata": {},
   "outputs": [],
   "source": [
    "class Deck:\n",
    "    \"\"\"\n",
    "    Generate one deck of cards\n",
    "            \n",
    "    ----\n",
    "    attributes:\n",
    "    deck_list: list of Card object\n",
    "\n",
    "    ----\n",
    "    methods:\n",
    "    __build: generate one deck of cards, return as list\n",
    "    \n",
    "    shuffle: shuffle the current deck\n",
    "    \n",
    "    show: show the current deck\n",
    "    \n",
    "    \"\"\"\n",
    "    def __init__(self, shuffle:bool=True):\n",
    "        \"\"\"\n",
    "        ----\n",
    "        paramters:\n",
    "        shuffle: shuffle the initial deck or not\n",
    "        \"\"\"\n",
    "        self.deck_list = self.__build()\n",
    "        if shuffle:\n",
    "            self.shuffle()\n",
    "        \n",
    "    def __build(self) -> list:\n",
    "        \"\"\"\n",
    "        Generate one deck of cards\n",
    "        \n",
    "        ----\n",
    "        return:\n",
    "        deck_list: list of 52 Card objects\n",
    "        \"\"\"\n",
    "        suit_list = ['Spades', 'Clubs', 'Diamonds', 'Hearts']\n",
    "        return [Card(s, v) for s in suit_list for v in range(1, 14)]\n",
    "    \n",
    "    def shuffle(self):\n",
    "        \"\"\"\n",
    "        Shuffle the deck, using random.shuffle() method\n",
    "        \"\"\"\n",
    "        random.shuffle(self.deck_list)\n",
    "        \n",
    "    def show(self, num_cards:int=13):\n",
    "        \"\"\"\n",
    "        Show the first {num_cards} cards in the deck\n",
    "        \n",
    "        ----\n",
    "        parameter:\n",
    "        num_cards: the number of cards to show, default 10\n",
    "        if num_cards <= 0, show all the cards\n",
    "        \n",
    "        \"\"\"\n",
    "        if num_cards <= 0 or num_cards > len(self.deck_list):\n",
    "            num_cards = len(self.deck_list)\n",
    "        for i in range(num_cards):\n",
    "            self.deck_list[i].show()  # Call the show() method of Card object\n",
    "    \n",
    "    def draw(self):\n",
    "        \"\"\"\n",
    "        Draw a card from the current deck\n",
    "        \n",
    "        ----\n",
    "        return the last element in deck_list, a Card object\n",
    "        \"\"\"\n",
    "        return self.deck_list.pop()"
   ]
  },
  {
   "cell_type": "markdown",
   "metadata": {},
   "source": [
    "# Draft"
   ]
  },
  {
   "cell_type": "code",
   "execution_count": null,
   "metadata": {},
   "outputs": [],
   "source": []
  }
 ],
 "metadata": {
  "kernelspec": {
   "display_name": "Python 3",
   "language": "python",
   "name": "python3"
  },
  "language_info": {
   "codemirror_mode": {
    "name": "ipython",
    "version": 3
   },
   "file_extension": ".py",
   "mimetype": "text/x-python",
   "name": "python",
   "nbconvert_exporter": "python",
   "pygments_lexer": "ipython3",
   "version": "3.7.3"
  }
 },
 "nbformat": 4,
 "nbformat_minor": 4
}
